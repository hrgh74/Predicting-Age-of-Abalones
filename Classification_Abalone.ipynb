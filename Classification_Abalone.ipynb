{
 "cells": [
  {
   "cell_type": "markdown",
   "metadata": {},
   "source": [
    "### Loading abalone data in pandas datframe"
   ]
  },
  {
   "cell_type": "code",
   "execution_count": 27,
   "metadata": {
    "collapsed": false
   },
   "outputs": [],
   "source": [
    "from sklearn import datasets\n",
    "from statsmodels.formula.api import logit, probit, poisson, ols\n",
    "import statsmodels.api as sm\n",
    "import numpy as np  # linear algebra\n",
    "import pandas as pd  # data processing, CSV file I/O (e.g. pd.read_csv)\n",
    "import os\n",
    "from sklearn import linear_model\n",
    "from sklearn import model_selection\n",
    "from sklearn import preprocessing\n",
    "import matplotlib.pyplot as plt\n",
    "import seaborn as sns\n",
    "\n",
    "\n",
    "from sklearn.metrics import roc_curve\n",
    "from sklearn.exceptions import ConvergenceWarning\n",
    "from sklearn.linear_model import LogisticRegression\n",
    "from sklearn.ensemble import RandomForestClassifier\n",
    "from sklearn.metrics import confusion_matrix\n",
    "\n",
    "from sklearn import tree\n",
    "from sklearn import svm\n",
    "from sklearn import ensemble\n",
    "from sklearn import neighbors\n",
    "from sklearn import linear_model\n",
    "from sklearn import metrics\n",
    "from sklearn import preprocessing\n",
    "plt.style.use('fivethirtyeight')  # Good looking plots\n",
    "\n",
    "data_directory = os.path.join('.', 'Data')\n",
    "\n",
    "abalone_data_path = os.path.join(data_directory, 'abalone.csv')\n",
    "abalone = pd.read_csv(abalone_data_path, low_memory=False, encoding='latin-1')\n"
   ]
  },
  {
   "cell_type": "markdown",
   "metadata": {},
   "source": [
    "### The original data did not have headers in it. Adding headers to the dataframe"
   ]
  },
  {
   "cell_type": "code",
   "execution_count": 28,
   "metadata": {
    "collapsed": false
   },
   "outputs": [
    {
     "data": {
      "text/html": [
       "<div>\n",
       "<style scoped>\n",
       "    .dataframe tbody tr th:only-of-type {\n",
       "        vertical-align: middle;\n",
       "    }\n",
       "\n",
       "    .dataframe tbody tr th {\n",
       "        vertical-align: top;\n",
       "    }\n",
       "\n",
       "    .dataframe thead th {\n",
       "        text-align: right;\n",
       "    }\n",
       "</style>\n",
       "<table border=\"1\" class=\"dataframe\">\n",
       "  <thead>\n",
       "    <tr style=\"text-align: right;\">\n",
       "      <th></th>\n",
       "      <th>Sex</th>\n",
       "      <th>Length</th>\n",
       "      <th>Diameter</th>\n",
       "      <th>Height</th>\n",
       "      <th>Whole weight</th>\n",
       "      <th>Shucked weight</th>\n",
       "      <th>Viscera weight</th>\n",
       "      <th>Shell weight</th>\n",
       "      <th>Rings</th>\n",
       "    </tr>\n",
       "  </thead>\n",
       "  <tbody>\n",
       "    <tr>\n",
       "      <th>0</th>\n",
       "      <td>M</td>\n",
       "      <td>0.455</td>\n",
       "      <td>0.365</td>\n",
       "      <td>0.095</td>\n",
       "      <td>0.5140</td>\n",
       "      <td>0.2245</td>\n",
       "      <td>0.1010</td>\n",
       "      <td>0.150</td>\n",
       "      <td>15</td>\n",
       "    </tr>\n",
       "    <tr>\n",
       "      <th>1</th>\n",
       "      <td>M</td>\n",
       "      <td>0.350</td>\n",
       "      <td>0.265</td>\n",
       "      <td>0.090</td>\n",
       "      <td>0.2255</td>\n",
       "      <td>0.0995</td>\n",
       "      <td>0.0485</td>\n",
       "      <td>0.070</td>\n",
       "      <td>7</td>\n",
       "    </tr>\n",
       "    <tr>\n",
       "      <th>2</th>\n",
       "      <td>F</td>\n",
       "      <td>0.530</td>\n",
       "      <td>0.420</td>\n",
       "      <td>0.135</td>\n",
       "      <td>0.6770</td>\n",
       "      <td>0.2565</td>\n",
       "      <td>0.1415</td>\n",
       "      <td>0.210</td>\n",
       "      <td>9</td>\n",
       "    </tr>\n",
       "    <tr>\n",
       "      <th>3</th>\n",
       "      <td>M</td>\n",
       "      <td>0.440</td>\n",
       "      <td>0.365</td>\n",
       "      <td>0.125</td>\n",
       "      <td>0.5160</td>\n",
       "      <td>0.2155</td>\n",
       "      <td>0.1140</td>\n",
       "      <td>0.155</td>\n",
       "      <td>10</td>\n",
       "    </tr>\n",
       "    <tr>\n",
       "      <th>4</th>\n",
       "      <td>I</td>\n",
       "      <td>0.330</td>\n",
       "      <td>0.255</td>\n",
       "      <td>0.080</td>\n",
       "      <td>0.2050</td>\n",
       "      <td>0.0895</td>\n",
       "      <td>0.0395</td>\n",
       "      <td>0.055</td>\n",
       "      <td>7</td>\n",
       "    </tr>\n",
       "  </tbody>\n",
       "</table>\n",
       "</div>"
      ],
      "text/plain": [
       "  Sex  Length  Diameter  Height  Whole weight  Shucked weight  Viscera weight  \\\n",
       "0   M   0.455     0.365   0.095        0.5140          0.2245          0.1010   \n",
       "1   M   0.350     0.265   0.090        0.2255          0.0995          0.0485   \n",
       "2   F   0.530     0.420   0.135        0.6770          0.2565          0.1415   \n",
       "3   M   0.440     0.365   0.125        0.5160          0.2155          0.1140   \n",
       "4   I   0.330     0.255   0.080        0.2050          0.0895          0.0395   \n",
       "\n",
       "   Shell weight  Rings  \n",
       "0         0.150     15  \n",
       "1         0.070      7  \n",
       "2         0.210      9  \n",
       "3         0.155     10  \n",
       "4         0.055      7  "
      ]
     },
     "execution_count": 28,
     "metadata": {},
     "output_type": "execute_result"
    }
   ],
   "source": [
    "file = open(\"abalone.data\", \"r\")\n",
    "df = pd.read_table(file, sep=',', names=[\"Sex\", \"Length\", \"Diameter\", \"Height\",\n",
    "                   \"Whole weight\", \"Shucked weight\", \"Viscera weight\", \"Shell weight\", \"Rings\"])\n",
    "\n",
    "df.head()\n"
   ]
  },
  {
   "cell_type": "markdown",
   "metadata": {},
   "source": [
    "###  Sex is either Male (\"M\"), Female (\"F\") or Infant (\"I\"), this is not suitable for regression algorithms, so I created a numeric feature: 1:Male, 2: Female, 3:Infant"
   ]
  },
  {
   "cell_type": "code",
   "execution_count": 29,
   "metadata": {
    "collapsed": false
   },
   "outputs": [],
   "source": [
    "sex_dictionary = {'M': 1, 'F': 2, 'I': 3}\n",
    "df['Sex'] = df['Sex'].apply(lambda x: sex_dictionary[x])\n"
   ]
  },
  {
   "cell_type": "markdown",
   "metadata": {},
   "source": [
    "### Finding datatype of all the variables"
   ]
  },
  {
   "cell_type": "code",
   "execution_count": 30,
   "metadata": {
    "collapsed": false
   },
   "outputs": [
    {
     "data": {
      "text/plain": [
       "Sex                 int64\n",
       "Length            float64\n",
       "Diameter          float64\n",
       "Height            float64\n",
       "Whole weight      float64\n",
       "Shucked weight    float64\n",
       "Viscera weight    float64\n",
       "Shell weight      float64\n",
       "Rings               int64\n",
       "dtype: object"
      ]
     },
     "execution_count": 30,
     "metadata": {},
     "output_type": "execute_result"
    }
   ],
   "source": [
    "df.dtypes\n"
   ]
  },
  {
   "cell_type": "markdown",
   "metadata": {},
   "source": [
    "### Finding the shape of dataframe"
   ]
  },
  {
   "cell_type": "code",
   "execution_count": 31,
   "metadata": {
    "collapsed": false
   },
   "outputs": [
    {
     "name": "stdout",
     "output_type": "stream",
     "text": [
      "(4177, 9)\n",
      "Index(['Sex', 'Length', 'Diameter', 'Height', 'Whole weight', 'Shucked weight',\n",
      "       'Viscera weight', 'Shell weight', 'Rings'],\n",
      "      dtype='object')\n"
     ]
    }
   ],
   "source": [
    "print(df.shape)\n",
    "print(df.columns)\n",
    "# print(loan.describe())\n"
   ]
  },
  {
   "cell_type": "markdown",
   "metadata": {},
   "source": [
    "### Getting summary metrics for the dataframe"
   ]
  },
  {
   "cell_type": "code",
   "execution_count": 32,
   "metadata": {
    "collapsed": false
   },
   "outputs": [
    {
     "name": "stdout",
     "output_type": "stream",
     "text": [
      "               Sex       Length     Diameter       Height  Whole weight  \\\n",
      "count  4177.000000  4177.000000  4177.000000  4177.000000   4177.000000   \n",
      "mean      1.955470     0.523992     0.407881     0.139516      0.828742   \n",
      "std       0.827815     0.120093     0.099240     0.041827      0.490389   \n",
      "min       1.000000     0.075000     0.055000     0.000000      0.002000   \n",
      "25%       1.000000     0.450000     0.350000     0.115000      0.441500   \n",
      "50%       2.000000     0.545000     0.425000     0.140000      0.799500   \n",
      "75%       3.000000     0.615000     0.480000     0.165000      1.153000   \n",
      "max       3.000000     0.815000     0.650000     1.130000      2.825500   \n",
      "\n",
      "       Shucked weight  Viscera weight  Shell weight        Rings  \n",
      "count     4177.000000     4177.000000   4177.000000  4177.000000  \n",
      "mean         0.359367        0.180594      0.238831     9.933684  \n",
      "std          0.221963        0.109614      0.139203     3.224169  \n",
      "min          0.001000        0.000500      0.001500     1.000000  \n",
      "25%          0.186000        0.093500      0.130000     8.000000  \n",
      "50%          0.336000        0.171000      0.234000     9.000000  \n",
      "75%          0.502000        0.253000      0.329000    11.000000  \n",
      "max          1.488000        0.760000      1.005000    29.000000  \n"
     ]
    }
   ],
   "source": [
    "print(df.describe())\n"
   ]
  },
  {
   "cell_type": "markdown",
   "metadata": {},
   "source": [
    "### Checking for missing/null values. "
   ]
  },
  {
   "cell_type": "code",
   "execution_count": 33,
   "metadata": {
    "collapsed": false
   },
   "outputs": [
    {
     "data": {
      "text/plain": [
       "Sex               0\n",
       "Length            0\n",
       "Diameter          0\n",
       "Height            0\n",
       "Whole weight      0\n",
       "Shucked weight    0\n",
       "Viscera weight    0\n",
       "Shell weight      0\n",
       "Rings             0\n",
       "dtype: int64"
      ]
     },
     "execution_count": 33,
     "metadata": {},
     "output_type": "execute_result"
    }
   ],
   "source": [
    "\n",
    "df.select_dtypes(include=['object']).isnull().sum()\n",
    "df.select_dtypes(include=[np.number]).isnull().sum()\n"
   ]
  },
  {
   "cell_type": "markdown",
   "metadata": {},
   "source": [
    "### Adding age column in the dataframe for classification. Age is classified based on the number of rings.\n",
    "### Rings 1-8 -->Age 1, denoting young\n",
    "###  Rings 9-10 -->Age 2, denoting middle\n",
    "### Rings 11-29 -->Age 3, denoting old"
   ]
  },
  {
   "cell_type": "code",
   "execution_count": 34,
   "metadata": {
    "collapsed": false
   },
   "outputs": [],
   "source": [
    "def label_race(row):\n",
    "    if row['Rings'] >= 1 and row['Rings'] <= 8:\n",
    "        return 1\n",
    "    elif row['Rings'] >= 9 and row['Rings'] <= 10:\n",
    "        return 2\n",
    "    elif row['Rings'] >= 11 and row['Rings'] <= 29:\n",
    "        return 3\n",
    "    return 0\n"
   ]
  },
  {
   "cell_type": "code",
   "execution_count": 35,
   "metadata": {
    "collapsed": true
   },
   "outputs": [],
   "source": [
    "df['Age'] = df.apply(lambda _: '', axis=1)\n"
   ]
  },
  {
   "cell_type": "code",
   "execution_count": 36,
   "metadata": {
    "collapsed": false
   },
   "outputs": [],
   "source": [
    "df['Age'] = df.apply(lambda row: label_race(row), axis=1)\n"
   ]
  },
  {
   "cell_type": "code",
   "execution_count": 37,
   "metadata": {
    "collapsed": false
   },
   "outputs": [
    {
     "data": {
      "text/html": [
       "<div>\n",
       "<style scoped>\n",
       "    .dataframe tbody tr th:only-of-type {\n",
       "        vertical-align: middle;\n",
       "    }\n",
       "\n",
       "    .dataframe tbody tr th {\n",
       "        vertical-align: top;\n",
       "    }\n",
       "\n",
       "    .dataframe thead th {\n",
       "        text-align: right;\n",
       "    }\n",
       "</style>\n",
       "<table border=\"1\" class=\"dataframe\">\n",
       "  <thead>\n",
       "    <tr style=\"text-align: right;\">\n",
       "      <th></th>\n",
       "      <th>Sex</th>\n",
       "      <th>Length</th>\n",
       "      <th>Diameter</th>\n",
       "      <th>Height</th>\n",
       "      <th>Whole weight</th>\n",
       "      <th>Shucked weight</th>\n",
       "      <th>Viscera weight</th>\n",
       "      <th>Shell weight</th>\n",
       "      <th>Rings</th>\n",
       "      <th>Age</th>\n",
       "    </tr>\n",
       "  </thead>\n",
       "  <tbody>\n",
       "    <tr>\n",
       "      <th>0</th>\n",
       "      <td>1.0</td>\n",
       "      <td>0.455</td>\n",
       "      <td>0.365</td>\n",
       "      <td>0.095</td>\n",
       "      <td>0.5140</td>\n",
       "      <td>0.2245</td>\n",
       "      <td>0.1010</td>\n",
       "      <td>0.1500</td>\n",
       "      <td>15</td>\n",
       "      <td>3</td>\n",
       "    </tr>\n",
       "    <tr>\n",
       "      <th>1</th>\n",
       "      <td>1.0</td>\n",
       "      <td>0.350</td>\n",
       "      <td>0.265</td>\n",
       "      <td>0.090</td>\n",
       "      <td>0.2255</td>\n",
       "      <td>0.0995</td>\n",
       "      <td>0.0485</td>\n",
       "      <td>0.0700</td>\n",
       "      <td>7</td>\n",
       "      <td>1</td>\n",
       "    </tr>\n",
       "    <tr>\n",
       "      <th>2</th>\n",
       "      <td>2.0</td>\n",
       "      <td>0.530</td>\n",
       "      <td>0.420</td>\n",
       "      <td>0.135</td>\n",
       "      <td>0.6770</td>\n",
       "      <td>0.2565</td>\n",
       "      <td>0.1415</td>\n",
       "      <td>0.2100</td>\n",
       "      <td>9</td>\n",
       "      <td>2</td>\n",
       "    </tr>\n",
       "    <tr>\n",
       "      <th>3</th>\n",
       "      <td>1.0</td>\n",
       "      <td>0.440</td>\n",
       "      <td>0.365</td>\n",
       "      <td>0.125</td>\n",
       "      <td>0.5160</td>\n",
       "      <td>0.2155</td>\n",
       "      <td>0.1140</td>\n",
       "      <td>0.1550</td>\n",
       "      <td>10</td>\n",
       "      <td>2</td>\n",
       "    </tr>\n",
       "    <tr>\n",
       "      <th>4</th>\n",
       "      <td>3.0</td>\n",
       "      <td>0.330</td>\n",
       "      <td>0.255</td>\n",
       "      <td>0.080</td>\n",
       "      <td>0.2050</td>\n",
       "      <td>0.0895</td>\n",
       "      <td>0.0395</td>\n",
       "      <td>0.0550</td>\n",
       "      <td>7</td>\n",
       "      <td>1</td>\n",
       "    </tr>\n",
       "    <tr>\n",
       "      <th>...</th>\n",
       "      <td>...</td>\n",
       "      <td>...</td>\n",
       "      <td>...</td>\n",
       "      <td>...</td>\n",
       "      <td>...</td>\n",
       "      <td>...</td>\n",
       "      <td>...</td>\n",
       "      <td>...</td>\n",
       "      <td>...</td>\n",
       "      <td>...</td>\n",
       "    </tr>\n",
       "    <tr>\n",
       "      <th>4172</th>\n",
       "      <td>2.0</td>\n",
       "      <td>0.565</td>\n",
       "      <td>0.450</td>\n",
       "      <td>0.165</td>\n",
       "      <td>0.8870</td>\n",
       "      <td>0.3700</td>\n",
       "      <td>0.2390</td>\n",
       "      <td>0.2490</td>\n",
       "      <td>11</td>\n",
       "      <td>3</td>\n",
       "    </tr>\n",
       "    <tr>\n",
       "      <th>4173</th>\n",
       "      <td>1.0</td>\n",
       "      <td>0.590</td>\n",
       "      <td>0.440</td>\n",
       "      <td>0.135</td>\n",
       "      <td>0.9660</td>\n",
       "      <td>0.4390</td>\n",
       "      <td>0.2145</td>\n",
       "      <td>0.2605</td>\n",
       "      <td>10</td>\n",
       "      <td>2</td>\n",
       "    </tr>\n",
       "    <tr>\n",
       "      <th>4174</th>\n",
       "      <td>1.0</td>\n",
       "      <td>0.600</td>\n",
       "      <td>0.475</td>\n",
       "      <td>0.205</td>\n",
       "      <td>1.1760</td>\n",
       "      <td>0.5255</td>\n",
       "      <td>0.2875</td>\n",
       "      <td>0.3080</td>\n",
       "      <td>9</td>\n",
       "      <td>2</td>\n",
       "    </tr>\n",
       "    <tr>\n",
       "      <th>4175</th>\n",
       "      <td>2.0</td>\n",
       "      <td>0.625</td>\n",
       "      <td>0.485</td>\n",
       "      <td>0.150</td>\n",
       "      <td>1.0945</td>\n",
       "      <td>0.5310</td>\n",
       "      <td>0.2610</td>\n",
       "      <td>0.2960</td>\n",
       "      <td>10</td>\n",
       "      <td>2</td>\n",
       "    </tr>\n",
       "    <tr>\n",
       "      <th>4176</th>\n",
       "      <td>1.0</td>\n",
       "      <td>0.710</td>\n",
       "      <td>0.555</td>\n",
       "      <td>0.195</td>\n",
       "      <td>1.9485</td>\n",
       "      <td>0.9455</td>\n",
       "      <td>0.3765</td>\n",
       "      <td>0.4950</td>\n",
       "      <td>12</td>\n",
       "      <td>3</td>\n",
       "    </tr>\n",
       "  </tbody>\n",
       "</table>\n",
       "<p>4177 rows × 10 columns</p>\n",
       "</div>"
      ],
      "text/plain": [
       "      Sex  Length  Diameter  Height  Whole weight  Shucked weight  \\\n",
       "0     1.0   0.455     0.365   0.095        0.5140          0.2245   \n",
       "1     1.0   0.350     0.265   0.090        0.2255          0.0995   \n",
       "2     2.0   0.530     0.420   0.135        0.6770          0.2565   \n",
       "3     1.0   0.440     0.365   0.125        0.5160          0.2155   \n",
       "4     3.0   0.330     0.255   0.080        0.2050          0.0895   \n",
       "...   ...     ...       ...     ...           ...             ...   \n",
       "4172  2.0   0.565     0.450   0.165        0.8870          0.3700   \n",
       "4173  1.0   0.590     0.440   0.135        0.9660          0.4390   \n",
       "4174  1.0   0.600     0.475   0.205        1.1760          0.5255   \n",
       "4175  2.0   0.625     0.485   0.150        1.0945          0.5310   \n",
       "4176  1.0   0.710     0.555   0.195        1.9485          0.9455   \n",
       "\n",
       "      Viscera weight  Shell weight  Rings  Age  \n",
       "0             0.1010        0.1500     15    3  \n",
       "1             0.0485        0.0700      7    1  \n",
       "2             0.1415        0.2100      9    2  \n",
       "3             0.1140        0.1550     10    2  \n",
       "4             0.0395        0.0550      7    1  \n",
       "...              ...           ...    ...  ...  \n",
       "4172          0.2390        0.2490     11    3  \n",
       "4173          0.2145        0.2605     10    2  \n",
       "4174          0.2875        0.3080      9    2  \n",
       "4175          0.2610        0.2960     10    2  \n",
       "4176          0.3765        0.4950     12    3  \n",
       "\n",
       "[4177 rows x 10 columns]"
      ]
     },
     "execution_count": 37,
     "metadata": {},
     "output_type": "execute_result"
    }
   ],
   "source": [
    "df.Sex = df.Sex.astype(float)\n",
    "df\n"
   ]
  },
  {
   "cell_type": "code",
   "execution_count": 38,
   "metadata": {
    "collapsed": false
   },
   "outputs": [
    {
     "data": {
      "text/html": [
       "<div>\n",
       "<style scoped>\n",
       "    .dataframe tbody tr th:only-of-type {\n",
       "        vertical-align: middle;\n",
       "    }\n",
       "\n",
       "    .dataframe tbody tr th {\n",
       "        vertical-align: top;\n",
       "    }\n",
       "\n",
       "    .dataframe thead th {\n",
       "        text-align: right;\n",
       "    }\n",
       "</style>\n",
       "<table border=\"1\" class=\"dataframe\">\n",
       "  <thead>\n",
       "    <tr style=\"text-align: right;\">\n",
       "      <th></th>\n",
       "      <th>Sex</th>\n",
       "      <th>Length</th>\n",
       "      <th>Diameter</th>\n",
       "      <th>Height</th>\n",
       "      <th>Whole weight</th>\n",
       "      <th>Shucked weight</th>\n",
       "      <th>Viscera weight</th>\n",
       "      <th>Shell weight</th>\n",
       "      <th>Rings</th>\n",
       "      <th>Age</th>\n",
       "    </tr>\n",
       "  </thead>\n",
       "  <tbody>\n",
       "    <tr>\n",
       "      <th>1257</th>\n",
       "      <td>3.0</td>\n",
       "      <td>0.430</td>\n",
       "      <td>0.34</td>\n",
       "      <td>0.0</td>\n",
       "      <td>0.428</td>\n",
       "      <td>0.2065</td>\n",
       "      <td>0.0860</td>\n",
       "      <td>0.1150</td>\n",
       "      <td>8</td>\n",
       "      <td>1</td>\n",
       "    </tr>\n",
       "    <tr>\n",
       "      <th>3996</th>\n",
       "      <td>3.0</td>\n",
       "      <td>0.315</td>\n",
       "      <td>0.23</td>\n",
       "      <td>0.0</td>\n",
       "      <td>0.134</td>\n",
       "      <td>0.0575</td>\n",
       "      <td>0.0285</td>\n",
       "      <td>0.3505</td>\n",
       "      <td>6</td>\n",
       "      <td>1</td>\n",
       "    </tr>\n",
       "  </tbody>\n",
       "</table>\n",
       "</div>"
      ],
      "text/plain": [
       "      Sex  Length  Diameter  Height  Whole weight  Shucked weight  \\\n",
       "1257  3.0   0.430      0.34     0.0         0.428          0.2065   \n",
       "3996  3.0   0.315      0.23     0.0         0.134          0.0575   \n",
       "\n",
       "      Viscera weight  Shell weight  Rings  Age  \n",
       "1257          0.0860        0.1150      8    1  \n",
       "3996          0.0285        0.3505      6    1  "
      ]
     },
     "execution_count": 38,
     "metadata": {},
     "output_type": "execute_result"
    }
   ],
   "source": [
    "df[df['Height'] == 0]\n"
   ]
  },
  {
   "cell_type": "code",
   "execution_count": 39,
   "metadata": {
    "collapsed": false
   },
   "outputs": [
    {
     "data": {
      "image/png": "[encoded data removed]",
      "text/plain": [
       "<Figure size 432x288 with 1 Axes>"
      ]
     },
     "metadata": {},
     "output_type": "display_data"
    }
   ],
   "source": [
    "ax = sns.boxplot(x=\"Sex\", y=\"Rings\", data=df)\n"
   ]
  },
  {
   "cell_type": "markdown",
   "metadata": {},
   "source": [
    "### Infants have lower number of rings as compared to males and females"
   ]
  },
  {
   "cell_type": "code",
   "execution_count": 40,
   "metadata": {
    "collapsed": false
   },
   "outputs": [
    {
     "data": {
      "text/plain": [
       "<seaborn.axisgrid.FacetGrid at 0x209f91f7be0>"
      ]
     },
     "execution_count": 40,
     "metadata": {},
     "output_type": "execute_result"
    },
    {
     "data": {
      "image/png": "[encoded data removed]",
      "text/plain": [
       "<Figure size 491.275x432 with 1 Axes>"
      ]
     },
     "metadata": {},
     "output_type": "display_data"
    }
   ],
   "source": [
    "sns.FacetGrid(df, hue=\"Age\", height=6) \\\n",
    "   .map(sns.kdeplot, \"Rings\") \\\n",
    "   .add_legend()\n"
   ]
  },
  {
   "cell_type": "markdown",
   "metadata": {},
   "source": [
    "### Age labelled 1 are youth, label 2 are middle aged and 3 are old aged. Young abalones have 0-10 rings, Middle aged abalones have 9-11 rings and old abalones have more than 10 rings"
   ]
  },
  {
   "cell_type": "code",
   "execution_count": 41,
   "metadata": {
    "collapsed": false
   },
   "outputs": [
    {
     "data": {
      "text/plain": [
       "<seaborn.axisgrid.FacetGrid at 0x209f92180a0>"
      ]
     },
     "execution_count": 41,
     "metadata": {},
     "output_type": "execute_result"
    },
    {
     "data": {
      "image/png": "[encoded data removed]",
      "text/plain": [
       "<Figure size 504.525x432 with 1 Axes>"
      ]
     },
     "metadata": {},
     "output_type": "display_data"
    }
   ],
   "source": [
    "sns.FacetGrid(df, hue=\"Sex\", height=6) \\\n",
    "   .map(sns.kdeplot, \"Height\") \\\n",
    "   .add_legend()\n"
   ]
  },
  {
   "cell_type": "markdown",
   "metadata": {},
   "source": [
    "### Female abalones have more height than males and infants. Height of infants is between 0 to 0.3mm"
   ]
  },
  {
   "cell_type": "markdown",
   "metadata": {},
   "source": [
    "### Classification"
   ]
  },
  {
   "cell_type": "markdown",
   "metadata": {},
   "source": [
    "### Response variable is age"
   ]
  },
  {
   "cell_type": "code",
   "execution_count": 42,
   "metadata": {
    "collapsed": false
   },
   "outputs": [
    {
     "data": {
      "text/html": [
       "<div>\n",
       "<style scoped>\n",
       "    .dataframe tbody tr th:only-of-type {\n",
       "        vertical-align: middle;\n",
       "    }\n",
       "\n",
       "    .dataframe tbody tr th {\n",
       "        vertical-align: top;\n",
       "    }\n",
       "\n",
       "    .dataframe thead th {\n",
       "        text-align: right;\n",
       "    }\n",
       "</style>\n",
       "<table border=\"1\" class=\"dataframe\">\n",
       "  <thead>\n",
       "    <tr style=\"text-align: right;\">\n",
       "      <th></th>\n",
       "      <th>Age</th>\n",
       "    </tr>\n",
       "  </thead>\n",
       "  <tbody>\n",
       "    <tr>\n",
       "      <th>0</th>\n",
       "      <td>3</td>\n",
       "    </tr>\n",
       "    <tr>\n",
       "      <th>1</th>\n",
       "      <td>1</td>\n",
       "    </tr>\n",
       "    <tr>\n",
       "      <th>2</th>\n",
       "      <td>2</td>\n",
       "    </tr>\n",
       "    <tr>\n",
       "      <th>3</th>\n",
       "      <td>2</td>\n",
       "    </tr>\n",
       "    <tr>\n",
       "      <th>4</th>\n",
       "      <td>1</td>\n",
       "    </tr>\n",
       "    <tr>\n",
       "      <th>...</th>\n",
       "      <td>...</td>\n",
       "    </tr>\n",
       "    <tr>\n",
       "      <th>4172</th>\n",
       "      <td>3</td>\n",
       "    </tr>\n",
       "    <tr>\n",
       "      <th>4173</th>\n",
       "      <td>2</td>\n",
       "    </tr>\n",
       "    <tr>\n",
       "      <th>4174</th>\n",
       "      <td>2</td>\n",
       "    </tr>\n",
       "    <tr>\n",
       "      <th>4175</th>\n",
       "      <td>2</td>\n",
       "    </tr>\n",
       "    <tr>\n",
       "      <th>4176</th>\n",
       "      <td>3</td>\n",
       "    </tr>\n",
       "  </tbody>\n",
       "</table>\n",
       "<p>4177 rows × 1 columns</p>\n",
       "</div>"
      ],
      "text/plain": [
       "      Age\n",
       "0       3\n",
       "1       1\n",
       "2       2\n",
       "3       2\n",
       "4       1\n",
       "...   ...\n",
       "4172    3\n",
       "4173    2\n",
       "4174    2\n",
       "4175    2\n",
       "4176    3\n",
       "\n",
       "[4177 rows x 1 columns]"
      ]
     },
     "execution_count": 42,
     "metadata": {},
     "output_type": "execute_result"
    }
   ],
   "source": [
    "Y = df[['Age']]\n",
    "Y\n"
   ]
  },
  {
   "cell_type": "markdown",
   "metadata": {},
   "source": [
    "### Predictor variables obtained by dropping rings and age from the dataframe "
   ]
  },
  {
   "cell_type": "code",
   "execution_count": 43,
   "metadata": {
    "collapsed": false
   },
   "outputs": [
    {
     "data": {
      "text/html": [
       "<div>\n",
       "<style scoped>\n",
       "    .dataframe tbody tr th:only-of-type {\n",
       "        vertical-align: middle;\n",
       "    }\n",
       "\n",
       "    .dataframe tbody tr th {\n",
       "        vertical-align: top;\n",
       "    }\n",
       "\n",
       "    .dataframe thead th {\n",
       "        text-align: right;\n",
       "    }\n",
       "</style>\n",
       "<table border=\"1\" class=\"dataframe\">\n",
       "  <thead>\n",
       "    <tr style=\"text-align: right;\">\n",
       "      <th></th>\n",
       "      <th>Sex</th>\n",
       "      <th>Length</th>\n",
       "      <th>Diameter</th>\n",
       "      <th>Height</th>\n",
       "      <th>Whole weight</th>\n",
       "      <th>Shucked weight</th>\n",
       "      <th>Viscera weight</th>\n",
       "      <th>Shell weight</th>\n",
       "    </tr>\n",
       "  </thead>\n",
       "  <tbody>\n",
       "    <tr>\n",
       "      <th>0</th>\n",
       "      <td>1.0</td>\n",
       "      <td>0.455</td>\n",
       "      <td>0.365</td>\n",
       "      <td>0.095</td>\n",
       "      <td>0.5140</td>\n",
       "      <td>0.2245</td>\n",
       "      <td>0.1010</td>\n",
       "      <td>0.1500</td>\n",
       "    </tr>\n",
       "    <tr>\n",
       "      <th>1</th>\n",
       "      <td>1.0</td>\n",
       "      <td>0.350</td>\n",
       "      <td>0.265</td>\n",
       "      <td>0.090</td>\n",
       "      <td>0.2255</td>\n",
       "      <td>0.0995</td>\n",
       "      <td>0.0485</td>\n",
       "      <td>0.0700</td>\n",
       "    </tr>\n",
       "    <tr>\n",
       "      <th>2</th>\n",
       "      <td>2.0</td>\n",
       "      <td>0.530</td>\n",
       "      <td>0.420</td>\n",
       "      <td>0.135</td>\n",
       "      <td>0.6770</td>\n",
       "      <td>0.2565</td>\n",
       "      <td>0.1415</td>\n",
       "      <td>0.2100</td>\n",
       "    </tr>\n",
       "    <tr>\n",
       "      <th>3</th>\n",
       "      <td>1.0</td>\n",
       "      <td>0.440</td>\n",
       "      <td>0.365</td>\n",
       "      <td>0.125</td>\n",
       "      <td>0.5160</td>\n",
       "      <td>0.2155</td>\n",
       "      <td>0.1140</td>\n",
       "      <td>0.1550</td>\n",
       "    </tr>\n",
       "    <tr>\n",
       "      <th>4</th>\n",
       "      <td>3.0</td>\n",
       "      <td>0.330</td>\n",
       "      <td>0.255</td>\n",
       "      <td>0.080</td>\n",
       "      <td>0.2050</td>\n",
       "      <td>0.0895</td>\n",
       "      <td>0.0395</td>\n",
       "      <td>0.0550</td>\n",
       "    </tr>\n",
       "    <tr>\n",
       "      <th>...</th>\n",
       "      <td>...</td>\n",
       "      <td>...</td>\n",
       "      <td>...</td>\n",
       "      <td>...</td>\n",
       "      <td>...</td>\n",
       "      <td>...</td>\n",
       "      <td>...</td>\n",
       "      <td>...</td>\n",
       "    </tr>\n",
       "    <tr>\n",
       "      <th>4172</th>\n",
       "      <td>2.0</td>\n",
       "      <td>0.565</td>\n",
       "      <td>0.450</td>\n",
       "      <td>0.165</td>\n",
       "      <td>0.8870</td>\n",
       "      <td>0.3700</td>\n",
       "      <td>0.2390</td>\n",
       "      <td>0.2490</td>\n",
       "    </tr>\n",
       "    <tr>\n",
       "      <th>4173</th>\n",
       "      <td>1.0</td>\n",
       "      <td>0.590</td>\n",
       "      <td>0.440</td>\n",
       "      <td>0.135</td>\n",
       "      <td>0.9660</td>\n",
       "      <td>0.4390</td>\n",
       "      <td>0.2145</td>\n",
       "      <td>0.2605</td>\n",
       "    </tr>\n",
       "    <tr>\n",
       "      <th>4174</th>\n",
       "      <td>1.0</td>\n",
       "      <td>0.600</td>\n",
       "      <td>0.475</td>\n",
       "      <td>0.205</td>\n",
       "      <td>1.1760</td>\n",
       "      <td>0.5255</td>\n",
       "      <td>0.2875</td>\n",
       "      <td>0.3080</td>\n",
       "    </tr>\n",
       "    <tr>\n",
       "      <th>4175</th>\n",
       "      <td>2.0</td>\n",
       "      <td>0.625</td>\n",
       "      <td>0.485</td>\n",
       "      <td>0.150</td>\n",
       "      <td>1.0945</td>\n",
       "      <td>0.5310</td>\n",
       "      <td>0.2610</td>\n",
       "      <td>0.2960</td>\n",
       "    </tr>\n",
       "    <tr>\n",
       "      <th>4176</th>\n",
       "      <td>1.0</td>\n",
       "      <td>0.710</td>\n",
       "      <td>0.555</td>\n",
       "      <td>0.195</td>\n",
       "      <td>1.9485</td>\n",
       "      <td>0.9455</td>\n",
       "      <td>0.3765</td>\n",
       "      <td>0.4950</td>\n",
       "    </tr>\n",
       "  </tbody>\n",
       "</table>\n",
       "<p>4177 rows × 8 columns</p>\n",
       "</div>"
      ],
      "text/plain": [
       "      Sex  Length  Diameter  Height  Whole weight  Shucked weight  \\\n",
       "0     1.0   0.455     0.365   0.095        0.5140          0.2245   \n",
       "1     1.0   0.350     0.265   0.090        0.2255          0.0995   \n",
       "2     2.0   0.530     0.420   0.135        0.6770          0.2565   \n",
       "3     1.0   0.440     0.365   0.125        0.5160          0.2155   \n",
       "4     3.0   0.330     0.255   0.080        0.2050          0.0895   \n",
       "...   ...     ...       ...     ...           ...             ...   \n",
       "4172  2.0   0.565     0.450   0.165        0.8870          0.3700   \n",
       "4173  1.0   0.590     0.440   0.135        0.9660          0.4390   \n",
       "4174  1.0   0.600     0.475   0.205        1.1760          0.5255   \n",
       "4175  2.0   0.625     0.485   0.150        1.0945          0.5310   \n",
       "4176  1.0   0.710     0.555   0.195        1.9485          0.9455   \n",
       "\n",
       "      Viscera weight  Shell weight  \n",
       "0             0.1010        0.1500  \n",
       "1             0.0485        0.0700  \n",
       "2             0.1415        0.2100  \n",
       "3             0.1140        0.1550  \n",
       "4             0.0395        0.0550  \n",
       "...              ...           ...  \n",
       "4172          0.2390        0.2490  \n",
       "4173          0.2145        0.2605  \n",
       "4174          0.2875        0.3080  \n",
       "4175          0.2610        0.2960  \n",
       "4176          0.3765        0.4950  \n",
       "\n",
       "[4177 rows x 8 columns]"
      ]
     },
     "execution_count": 43,
     "metadata": {},
     "output_type": "execute_result"
    }
   ],
   "source": [
    "\n",
    "X = df.drop(['Age', 'Rings'], axis=1)\n",
    "X\n"
   ]
  },
  {
   "cell_type": "markdown",
   "metadata": {},
   "source": [
    "### Plotting correlation matrix"
   ]
  },
  {
   "cell_type": "code",
   "execution_count": 44,
   "metadata": {
    "collapsed": false
   },
   "outputs": [
    {
     "data": {
      "text/plain": [
       "<AxesSubplot:>"
      ]
     },
     "execution_count": 44,
     "metadata": {},
     "output_type": "execute_result"
    },
    {
     "data": {
      "image/png": "[encoded data removed]",
      "text/plain": [
       "<Figure size 864x864 with 2 Axes>"
      ]
     },
     "metadata": {},
     "output_type": "display_data"
    }
   ],
   "source": [
    "corr = df.select_dtypes(include=['float64', 'int64']).iloc[:, 1:].corr()\n",
    "plt.figure(figsize=(12, 12))\n",
    "sns.heatmap(corr, vmax=1, square=True)\n"
   ]
  },
  {
   "cell_type": "code",
   "execution_count": 45,
   "metadata": {
    "collapsed": false,
    "scrolled": true
   },
   "outputs": [
    {
     "data": {
      "text/plain": [
       "<Figure size 432x288 with 0 Axes>"
      ]
     },
     "metadata": {},
     "output_type": "display_data"
    },
    {
     "data": {
      "image/png": "[encoded data removed]",
      "text/plain": [
       "<Figure size 720x648 with 6 Axes>"
      ]
     },
     "metadata": {},
     "output_type": "display_data"
    }
   ],
   "source": [
    "plt.figure(1)\n",
    "f, axarr = plt.subplots(3, 2, figsize=(10, 9))\n",
    "ring = df.Rings.values\n",
    "axarr[0, 0].scatter(df.Age.values, ring)\n",
    "axarr[0, 0].set_title('Age')\n",
    "axarr[0, 1].scatter(df.Sex.values, ring)\n",
    "axarr[0, 1].set_title('Sex')\n",
    "axarr[1, 0].scatter(df.Height.values, ring)\n",
    "axarr[1, 0].set_title('Height')\n",
    "axarr[2, 0].scatter(df.Length.values, ring)\n",
    "axarr[2, 0].set_title('Length')\n",
    "axarr[2, 0].scatter(df.Diameter.values, ring)\n",
    "axarr[2, 0].set_title('Diameter')\n",
    "f.text(-0.01, 0.5, 'Sale Price', va='center', rotation='vertical', fontsize=12)\n",
    "plt.tight_layout()\n",
    "plt.show()\n"
   ]
  },
  {
   "cell_type": "markdown",
   "metadata": {},
   "source": [
    "### Height of abalones is in the range of 0 to 0.2mm, most abalones are old aged."
   ]
  },
  {
   "cell_type": "code",
   "execution_count": 46,
   "metadata": {
    "collapsed": false
   },
   "outputs": [
    {
     "data": {
      "text/plain": [
       "<seaborn.axisgrid.FacetGrid at 0x209f93c54c0>"
      ]
     },
     "execution_count": 46,
     "metadata": {},
     "output_type": "execute_result"
    },
    {
     "data": {
      "image/png": "[encoded data removed]",
      "text/plain": [
       "<Figure size 526.125x324 with 1 Axes>"
      ]
     },
     "metadata": {},
     "output_type": "display_data"
    }
   ],
   "source": [
    "sns.catplot(x='Age', y='Height', hue='Sex', estimator=np.mean, data=df,\n",
    "            height=4.5, aspect=1.4, kind='point')\n"
   ]
  },
  {
   "cell_type": "markdown",
   "metadata": {},
   "source": [
    "### Female abalones have largest height. Male abalones have height ranging from 0.12 to 0.15mm. "
   ]
  },
  {
   "cell_type": "markdown",
   "metadata": {},
   "source": [
    "### Dividing the dataset into 75% training and 25% test data using train_test_split"
   ]
  },
  {
   "cell_type": "code",
   "execution_count": 47,
   "metadata": {
    "collapsed": false
   },
   "outputs": [],
   "source": [
    "from sklearn.model_selection import train_test_split\n",
    "train_X, test_X, train_y, test_y = train_test_split(\n",
    "    X, Y)  # splits 75%/25% by default\n"
   ]
  },
  {
   "cell_type": "markdown",
   "metadata": {},
   "source": [
    "### Shape of training and testing data"
   ]
  },
  {
   "cell_type": "code",
   "execution_count": 48,
   "metadata": {
    "collapsed": false
   },
   "outputs": [
    {
     "name": "stdout",
     "output_type": "stream",
     "text": [
      "train_df_x:\n",
      "(3132, 8)\n",
      "train_df_y:\n",
      "(3132, 1)\n",
      "test_df_x:\n",
      "(1045, 8)\n",
      "test_df_y:\n",
      "(1045, 1)\n"
     ]
    }
   ],
   "source": [
    "print(\"train_df_x:\")\n",
    "print(train_X.shape)\n",
    "\n",
    "print(\"train_df_y:\")\n",
    "print(train_y.shape)\n",
    "\n",
    "print(\"test_df_x:\")\n",
    "print(test_X.shape)\n",
    "\n",
    "print(\"test_df_y:\")\n",
    "print(test_y.shape)\n"
   ]
  },
  {
   "cell_type": "code",
   "execution_count": 49,
   "metadata": {
    "collapsed": true
   },
   "outputs": [],
   "source": [
    "def getAccuracy(testSet, predictions):\n",
    "\n",
    "    correct = 0\n",
    "\n",
    "    for x in range(len(testSet)):\n",
    "\n",
    "        if testSet[x][-1] == predictions[x]:\n",
    "\n",
    "            correct += 1\n",
    "\n",
    "    return (correct/float(len(testSet))) * 100.0\n"
   ]
  },
  {
   "cell_type": "markdown",
   "metadata": {},
   "source": [
    "### Function to calculate ROC curve."
   ]
  },
  {
   "cell_type": "markdown",
   "metadata": {},
   "source": [
    "### 1. Logistic Regression"
   ]
  },
  {
   "cell_type": "code",
   "execution_count": 50,
   "metadata": {
    "collapsed": false
   },
   "outputs": [
    {
     "name": "stdout",
     "output_type": "stream",
     "text": [
      "Intercept is  [ 2.39365604 -1.16992943 -1.22372662]\n",
      "Coefficient is  [[ 0.31093175 -1.47880141 -2.28117001 -1.3365609  -2.22972013  4.80348453\n",
      "  -0.88577373 -4.81102864]\n",
      " [-0.10346193  2.0662269   1.36258737  0.031956   -0.93773836  1.57381869\n",
      "   1.37446258 -0.36525723]\n",
      " [-0.20746982 -0.58742549  0.91858264  1.3046049   3.16745849 -6.37730322\n",
      "  -0.48868885  5.17628587]]\n",
      "Confusion Matrix\n",
      "Accuracy of Logistic Regression is:\n",
      "65.64593301435406\n",
      "MAE:0.39138755980861245\n",
      "RMSE:0.6979121289338068\n",
      "Median Absolute Error:0.0\n",
      "Classification report for Test data LogisticRegression(multi_class='multinomial', solver='newton-cg'):\n",
      "              precision    recall  f1-score   support\n",
      "\n",
      "           1       0.74      0.79      0.77       368\n",
      "           2       0.53      0.45      0.48       325\n",
      "           3       0.66      0.71      0.68       352\n",
      "\n",
      "    accuracy                           0.66      1045\n",
      "   macro avg       0.64      0.65      0.64      1045\n",
      "weighted avg       0.65      0.66      0.65      1045\n",
      "\n",
      "\n",
      "\n"
     ]
    }
   ],
   "source": [
    "import statsmodels.api as sm\n",
    "from math import sqrt\n",
    "from sklearn.metrics import accuracy_score\n",
    "from sklearn.metrics import mean_absolute_error\n",
    "from sklearn.metrics import mean_squared_error\n",
    "from sklearn.metrics import median_absolute_error\n",
    "#from statsmodels.formula.api import logit, probit, poisson, ols\n",
    "\n",
    "#logit = sm.Logit(train_y, train_X)\n",
    "#affair_mod = logit.fit()\n",
    "# print(affair_mod.summary())\n",
    "#model = LogisticRegression()\n",
    "\n",
    "# logistic regression\n",
    "log_reg = LogisticRegression(multi_class='multinomial', solver='newton-cg')\n",
    "log_reg.fit(train_X, train_y.values.ravel())\n",
    "print(\"Intercept is \", log_reg.intercept_)\n",
    "print(\"Coefficient is \", log_reg.coef_)\n",
    "y_pred = log_reg.predict(test_X)\n",
    "# calculate ROC curve\n",
    "#preds = log_reg.predict_proba(test_X)\n",
    "#calculate_roc_curve(test_y, preds,3)\n",
    "\n",
    "# calculate Confusion Matrix\n",
    "print(\"Confusion Matrix\")\n",
    "confusion_matrix(test_y, y_pred)\n",
    "\n",
    "print(\"Accuracy of Logistic Regression is:\")\n",
    "print(accuracy_score(test_y, y_pred)*100)\n",
    "\n",
    "\n",
    "# Mean Absolute Error\n",
    "mae = mean_absolute_error(test_y, y_pred)\n",
    "print(\"MAE:\"+str(mae))\n",
    "\n",
    "# RMSE\n",
    "rmse = sqrt(mean_squared_error(test_y, y_pred))\n",
    "print(\"RMSE:\"+str(rmse))\n",
    "\n",
    "# Median Absolute error\n",
    "Medae = median_absolute_error(test_y, y_pred)\n",
    "print(\"Median Absolute Error:\"+str(Medae))\n",
    "\n",
    "\n",
    "print(\"Classification report for Test data %s:\\n%s\\n\\n\"\n",
    "      % (log_reg, metrics.classification_report(test_y, y_pred)))\n"
   ]
  },
  {
   "cell_type": "code",
   "execution_count": 51,
   "metadata": {
    "collapsed": true
   },
   "outputs": [],
   "source": [
    "def confusion_matrix_data(conf_matrix):\n",
    "    fix, ax = plt.subplots(figsize=(16, 12))\n",
    "    plt.suptitle('Confusion Matrix  on Data Set')\n",
    "    for ii, values in conf_matrix.items():\n",
    "        matrix = values['matrix']\n",
    "        title = values['title']\n",
    "        plt.subplot(2, 2, ii)  \n",
    "        # starts from 1\n",
    "        plt.title(title)\n",
    "        sns.heatmap(matrix, annot=True,  fmt='')\n"
   ]
  },
  {
   "cell_type": "markdown",
   "metadata": {},
   "source": [
    "### 2. Neural Networks"
   ]
  },
  {
   "cell_type": "code",
   "execution_count": 53,
   "metadata": {
    "collapsed": false
   },
   "outputs": [
    {
     "name": "stdout",
     "output_type": "stream",
     "text": [
      "Best parameters set found on development set:\n",
      "{'activation': 'tanh', 'hidden_layer_sizes': (20, 10, 20), 'solver': 'adam'}\n",
      "Confusion Matrix\n",
      "Accuracy of Neural Networks is\n",
      "66.88995215311004\n",
      "MAE:0.36363636363636365\n",
      "RMSE:0.6547580728569079\n",
      "Median Absolute Error:0.0\n",
      "Classification report for Test data GridSearchCV(cv=3, estimator=MLPClassifier(max_iter=1500),\n",
      "             param_grid=[{'activation': ['identity', 'logistic', 'tanh',\n",
      "                                         'relu'],\n",
      "                          'hidden_layer_sizes': [(20, 10, 20)],\n",
      "                          'solver': ['sgd', 'adam']}],\n",
      "             scoring='accuracy'):\n",
      "              precision    recall  f1-score   support\n",
      "\n",
      "           1       0.79      0.78      0.78       368\n",
      "           2       0.52      0.50      0.51       325\n",
      "           3       0.68      0.71      0.69       352\n",
      "\n",
      "    accuracy                           0.67      1045\n",
      "   macro avg       0.66      0.66      0.66      1045\n",
      "weighted avg       0.67      0.67      0.67      1045\n",
      "\n",
      "\n",
      "\n"
     ]
    }
   ],
   "source": [
    "from sklearn.preprocessing import StandardScaler\n",
    "from sklearn.neural_network import MLPClassifier\n",
    "from sklearn.model_selection import GridSearchCV\n",
    "\n",
    "param_grid = [{\"activation\": [\"identity\", \"logistic\", 'tanh', 'relu'], 'solver': [\n",
    "     'sgd', 'adam'], 'hidden_layer_sizes': [(20, 10, 20)]}]\n",
    "clf = GridSearchCV(MLPClassifier(max_iter=1500), param_grid, cv=3, scoring='accuracy')\n",
    "clf.fit(train_X, train_y.values.ravel())\n",
    "\n",
    "print(\"Best parameters set found on development set:\")\n",
    "print(clf.best_params_)\n",
    "\n",
    "# # neural network\n",
    "# scaler = StandardScaler()\n",
    "# # Fit only to the training data\n",
    "# scaler.fit(train_X)\n",
    "# train_X = scaler.transform(train_X)\n",
    "# test_X = scaler.transform(test_X)\n",
    "\n",
    "# clf = MLPClassifier()\n",
    "# clf.fit(train_X, train_y.values.ravel())\n",
    "predictions = clf.predict(test_X)\n",
    "y_pred = predictions\n",
    "\n",
    "# calculate ROC curve\n",
    "#preds = clf.predict_proba(test_X)[:,1]\n",
    "#calculate_roc_curve(test_y, y_pred,3)\n",
    "\n",
    "\n",
    "# calculate Confusion Matrix\n",
    "print(\"Confusion Matrix\")\n",
    "confusion_matrix(test_y, y_pred)\n",
    "\n",
    "print(\"Accuracy of Neural Networks is\")\n",
    "print(accuracy_score(test_y, y_pred)*100)\n",
    "\n",
    "# Mean Absolute Error\n",
    "\n",
    "mae = mean_absolute_error(test_y, y_pred)\n",
    "print(\"MAE:\"+str(mae))\n",
    "# RMSE\n",
    "rmse = sqrt(mean_squared_error(test_y, y_pred))\n",
    "print(\"RMSE:\"+str(rmse))\n",
    "# Median Absolute error\n",
    "Medae = median_absolute_error(test_y, y_pred)\n",
    "print(\"Median Absolute Error:\"+str(Medae))\n",
    "\n",
    "\n",
    "print(\"Classification report for Test data %s:\\n%s\\n\\n\"\n",
    "      % (clf, metrics.classification_report(test_y, y_pred)))\n"
   ]
  },
  {
   "cell_type": "markdown",
   "metadata": {},
   "source": [
    "### 3. Random Forest"
   ]
  },
  {
   "cell_type": "code",
   "execution_count": 56,
   "metadata": {
    "collapsed": false
   },
   "outputs": [
    {
     "name": "stdout",
     "output_type": "stream",
     "text": [
      "Confusion Matrix\n",
      "Accuracy of Random Forest is:\n",
      "65.55023923444976\n",
      "MAE:0.3827751196172249\n",
      "RMSE:0.6777389936698861\n",
      "Median Absolute Error:0.0\n",
      "Classification report for Test data RandomForestClassifier(n_jobs=2):\n",
      "              precision    recall  f1-score   support\n",
      "\n",
      "           1       0.78      0.78      0.78       368\n",
      "           2       0.51      0.46      0.48       325\n",
      "           3       0.65      0.71      0.68       352\n",
      "\n",
      "    accuracy                           0.66      1045\n",
      "   macro avg       0.65      0.65      0.65      1045\n",
      "weighted avg       0.65      0.66      0.65      1045\n",
      "\n",
      "\n",
      "\n"
     ]
    }
   ],
   "source": [
    "# Random Forest\n",
    "rf = RandomForestClassifier(n_jobs=2)\n",
    "rf.fit(train_X, train_y.values.ravel())\n",
    "preds = rf.predict_proba(test_X)[:, 1]\n",
    "y_pred = rf.predict(test_X)\n",
    "# calculate ROC curve\n",
    "#calculate_roc_curve(y_test, y_pred,2)\n",
    "\n",
    "\n",
    "# calculate Confusion Matrix\n",
    "print(\"Confusion Matrix\")\n",
    "confusion_matrix(test_y, y_pred)\n",
    "\n",
    "print(\"Accuracy of Random Forest is:\")\n",
    "print(accuracy_score(test_y, y_pred)*100)\n",
    "\n",
    "# Mean Absolute Error\n",
    "\n",
    "mae = mean_absolute_error(test_y, y_pred)\n",
    "print(\"MAE:\"+str(mae))\n",
    "# RMSE\n",
    "rmse = sqrt(mean_squared_error(test_y, y_pred))\n",
    "print(\"RMSE:\"+str(rmse))\n",
    "# Median Absolute error\n",
    "Medae = median_absolute_error(test_y, y_pred)\n",
    "print(\"Median Absolute Error:\"+str(Medae))\n",
    "\n",
    "\n",
    "print(\"Classification report for Test data %s:\\n%s\\n\\n\"\n",
    "      % (rf, metrics.classification_report(test_y, y_pred)))\n"
   ]
  },
  {
   "cell_type": "markdown",
   "metadata": {},
   "source": [
    "### 4.  KNN Classifier"
   ]
  },
  {
   "cell_type": "code",
   "execution_count": 58,
   "metadata": {
    "collapsed": false
   },
   "outputs": [
    {
     "name": "stdout",
     "output_type": "stream",
     "text": [
      "Confusion Matrix\n",
      "Accuracy of KNN Classifier is:\n",
      "63.54066985645933\n",
      "MAE:0.3980861244019139\n",
      "RMSE:0.6819617073816742\n",
      "Median Absolute Error:0.0\n",
      "Classification report for Test data KNeighborsClassifier():\n",
      "              precision    recall  f1-score   support\n",
      "\n",
      "           1       0.73      0.80      0.76       368\n",
      "           2       0.47      0.50      0.49       325\n",
      "           3       0.70      0.59      0.64       352\n",
      "\n",
      "    accuracy                           0.64      1045\n",
      "   macro avg       0.63      0.63      0.63      1045\n",
      "weighted avg       0.64      0.64      0.64      1045\n",
      "\n",
      "\n",
      "\n"
     ]
    }
   ],
   "source": [
    "# Create an instance of KNeighborsClassifier and then fit training data\n",
    "from sklearn import neighbors\n",
    "clf = neighbors.KNeighborsClassifier()\n",
    "clf.fit(train_X, train_y.values.ravel())\n",
    "# Make class predictions for all observations in X\n",
    "y_pred = clf.predict(test_X)\n",
    "# Compare predicted class labels with actual class labels\n",
    "# accuracy=clf.score(X,Y)\n",
    "#print (\"Predicted model accuracy: \"+ str(accuracy))\n",
    "\n",
    "# calculate Confusion Matrix\n",
    "print(\"Confusion Matrix\")\n",
    "confusion_matrix(test_y, y_pred)\n",
    "\n",
    "print(\"Accuracy of KNN Classifier is:\")\n",
    "print(accuracy_score(test_y, y_pred)*100)\n",
    "\n",
    "# Mean Absolute Error\n",
    "\n",
    "mae = mean_absolute_error(test_y, y_pred)\n",
    "print(\"MAE:\"+str(mae))\n",
    "# RMSE\n",
    "rmse = sqrt(mean_squared_error(test_y, y_pred))\n",
    "print(\"RMSE:\"+str(rmse))\n",
    "# Median Absolute error\n",
    "Medae = median_absolute_error(test_y, y_pred)\n",
    "print(\"Median Absolute Error:\"+str(Medae))\n",
    "\n",
    "\n",
    "print(\"Classification report for Test data %s:\\n%s\\n\\n\"\n",
    "      % (clf, metrics.classification_report(test_y, y_pred)))\n"
   ]
  }
 ],
 "metadata": {
  "kernelspec": {
   "display_name": "Python 3",
   "language": "python",
   "name": "python3"
  },
  "language_info": {
   "codemirror_mode": {
    "name": "ipython",
    "version": 3
   },
   "file_extension": ".py",
   "mimetype": "text/x-python",
   "name": "python",
   "nbconvert_exporter": "python",
   "pygments_lexer": "ipython3",
   "version": "3.9.10"
  }
 },
 "nbformat": 4,
 "nbformat_minor": 2
}
